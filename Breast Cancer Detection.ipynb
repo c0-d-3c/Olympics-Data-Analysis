{
  "nbformat": 4,
  "nbformat_minor": 0,
  "metadata": {
    "colab": {
      "name": "Untitled7.ipynb",
      "provenance": []
    },
    "kernelspec": {
      "name": "python3",
      "display_name": "Python 3"
    },
    "language_info": {
      "name": "python"
    }
  },
  "cells": [
    {
      "cell_type": "code",
      "execution_count": 36,
      "metadata": {
        "id": "YYSCEGKLe_21"
      },
      "outputs": [],
      "source": [
        "import pandas as pd\n",
        "import numpy as np\n",
        "\n",
        "from sklearn.datasets import load_breast_cancer\n",
        "from sklearn.preprocessing import StandardScaler\n",
        "\n",
        "from keras.models import Sequential\n",
        "from keras.layers import Dense"
      ]
    },
    {
      "cell_type": "code",
      "source": [
        "data = load_breast_cancer()"
      ],
      "metadata": {
        "id": "ASX3I2Wgfd44"
      },
      "execution_count": 3,
      "outputs": []
    },
    {
      "cell_type": "code",
      "source": [
        "data.keys()"
      ],
      "metadata": {
        "colab": {
          "base_uri": "https://localhost:8080/"
        },
        "id": "uCH_mETcfhtN",
        "outputId": "0835712d-178c-40e8-8826-d4357a1f2912"
      },
      "execution_count": 4,
      "outputs": [
        {
          "output_type": "execute_result",
          "data": {
            "text/plain": [
              "dict_keys(['data', 'target', 'frame', 'target_names', 'DESCR', 'feature_names', 'filename', 'data_module'])"
            ]
          },
          "metadata": {},
          "execution_count": 4
        }
      ]
    },
    {
      "cell_type": "code",
      "source": [
        "print(data['DESCR'])"
      ],
      "metadata": {
        "colab": {
          "base_uri": "https://localhost:8080/"
        },
        "id": "3Lz-Jnckfmj6",
        "outputId": "2be2f54e-0750-4677-c055-c66193e8b006"
      },
      "execution_count": 5,
      "outputs": [
        {
          "output_type": "stream",
          "name": "stdout",
          "text": [
            ".. _breast_cancer_dataset:\n",
            "\n",
            "Breast cancer wisconsin (diagnostic) dataset\n",
            "--------------------------------------------\n",
            "\n",
            "**Data Set Characteristics:**\n",
            "\n",
            "    :Number of Instances: 569\n",
            "\n",
            "    :Number of Attributes: 30 numeric, predictive attributes and the class\n",
            "\n",
            "    :Attribute Information:\n",
            "        - radius (mean of distances from center to points on the perimeter)\n",
            "        - texture (standard deviation of gray-scale values)\n",
            "        - perimeter\n",
            "        - area\n",
            "        - smoothness (local variation in radius lengths)\n",
            "        - compactness (perimeter^2 / area - 1.0)\n",
            "        - concavity (severity of concave portions of the contour)\n",
            "        - concave points (number of concave portions of the contour)\n",
            "        - symmetry\n",
            "        - fractal dimension (\"coastline approximation\" - 1)\n",
            "\n",
            "        The mean, standard error, and \"worst\" or largest (mean of the three\n",
            "        worst/largest values) of these features were computed for each image,\n",
            "        resulting in 30 features.  For instance, field 0 is Mean Radius, field\n",
            "        10 is Radius SE, field 20 is Worst Radius.\n",
            "\n",
            "        - class:\n",
            "                - WDBC-Malignant\n",
            "                - WDBC-Benign\n",
            "\n",
            "    :Summary Statistics:\n",
            "\n",
            "    ===================================== ====== ======\n",
            "                                           Min    Max\n",
            "    ===================================== ====== ======\n",
            "    radius (mean):                        6.981  28.11\n",
            "    texture (mean):                       9.71   39.28\n",
            "    perimeter (mean):                     43.79  188.5\n",
            "    area (mean):                          143.5  2501.0\n",
            "    smoothness (mean):                    0.053  0.163\n",
            "    compactness (mean):                   0.019  0.345\n",
            "    concavity (mean):                     0.0    0.427\n",
            "    concave points (mean):                0.0    0.201\n",
            "    symmetry (mean):                      0.106  0.304\n",
            "    fractal dimension (mean):             0.05   0.097\n",
            "    radius (standard error):              0.112  2.873\n",
            "    texture (standard error):             0.36   4.885\n",
            "    perimeter (standard error):           0.757  21.98\n",
            "    area (standard error):                6.802  542.2\n",
            "    smoothness (standard error):          0.002  0.031\n",
            "    compactness (standard error):         0.002  0.135\n",
            "    concavity (standard error):           0.0    0.396\n",
            "    concave points (standard error):      0.0    0.053\n",
            "    symmetry (standard error):            0.008  0.079\n",
            "    fractal dimension (standard error):   0.001  0.03\n",
            "    radius (worst):                       7.93   36.04\n",
            "    texture (worst):                      12.02  49.54\n",
            "    perimeter (worst):                    50.41  251.2\n",
            "    area (worst):                         185.2  4254.0\n",
            "    smoothness (worst):                   0.071  0.223\n",
            "    compactness (worst):                  0.027  1.058\n",
            "    concavity (worst):                    0.0    1.252\n",
            "    concave points (worst):               0.0    0.291\n",
            "    symmetry (worst):                     0.156  0.664\n",
            "    fractal dimension (worst):            0.055  0.208\n",
            "    ===================================== ====== ======\n",
            "\n",
            "    :Missing Attribute Values: None\n",
            "\n",
            "    :Class Distribution: 212 - Malignant, 357 - Benign\n",
            "\n",
            "    :Creator:  Dr. William H. Wolberg, W. Nick Street, Olvi L. Mangasarian\n",
            "\n",
            "    :Donor: Nick Street\n",
            "\n",
            "    :Date: November, 1995\n",
            "\n",
            "This is a copy of UCI ML Breast Cancer Wisconsin (Diagnostic) datasets.\n",
            "https://goo.gl/U2Uwz2\n",
            "\n",
            "Features are computed from a digitized image of a fine needle\n",
            "aspirate (FNA) of a breast mass.  They describe\n",
            "characteristics of the cell nuclei present in the image.\n",
            "\n",
            "Separating plane described above was obtained using\n",
            "Multisurface Method-Tree (MSM-T) [K. P. Bennett, \"Decision Tree\n",
            "Construction Via Linear Programming.\" Proceedings of the 4th\n",
            "Midwest Artificial Intelligence and Cognitive Science Society,\n",
            "pp. 97-101, 1992], a classification method which uses linear\n",
            "programming to construct a decision tree.  Relevant features\n",
            "were selected using an exhaustive search in the space of 1-4\n",
            "features and 1-3 separating planes.\n",
            "\n",
            "The actual linear program used to obtain the separating plane\n",
            "in the 3-dimensional space is that described in:\n",
            "[K. P. Bennett and O. L. Mangasarian: \"Robust Linear\n",
            "Programming Discrimination of Two Linearly Inseparable Sets\",\n",
            "Optimization Methods and Software 1, 1992, 23-34].\n",
            "\n",
            "This database is also available through the UW CS ftp server:\n",
            "\n",
            "ftp ftp.cs.wisc.edu\n",
            "cd math-prog/cpo-dataset/machine-learn/WDBC/\n",
            "\n",
            ".. topic:: References\n",
            "\n",
            "   - W.N. Street, W.H. Wolberg and O.L. Mangasarian. Nuclear feature extraction \n",
            "     for breast tumor diagnosis. IS&T/SPIE 1993 International Symposium on \n",
            "     Electronic Imaging: Science and Technology, volume 1905, pages 861-870,\n",
            "     San Jose, CA, 1993.\n",
            "   - O.L. Mangasarian, W.N. Street and W.H. Wolberg. Breast cancer diagnosis and \n",
            "     prognosis via linear programming. Operations Research, 43(4), pages 570-577, \n",
            "     July-August 1995.\n",
            "   - W.H. Wolberg, W.N. Street, and O.L. Mangasarian. Machine learning techniques\n",
            "     to diagnose breast cancer from fine-needle aspirates. Cancer Letters 77 (1994) \n",
            "     163-171.\n"
          ]
        }
      ]
    },
    {
      "cell_type": "code",
      "source": [
        "data['data'].shape"
      ],
      "metadata": {
        "colab": {
          "base_uri": "https://localhost:8080/"
        },
        "id": "BYDG0GP3fqiT",
        "outputId": "2b9e437e-b666-44b4-8005-12f88dca88dc"
      },
      "execution_count": 6,
      "outputs": [
        {
          "output_type": "execute_result",
          "data": {
            "text/plain": [
              "(569, 30)"
            ]
          },
          "metadata": {},
          "execution_count": 6
        }
      ]
    },
    {
      "cell_type": "code",
      "source": [
        "data['feature_names']"
      ],
      "metadata": {
        "colab": {
          "base_uri": "https://localhost:8080/"
        },
        "id": "ysSyARCBfu-a",
        "outputId": "7107e098-6f4e-4e4d-ef73-05829f64b7e1"
      },
      "execution_count": 7,
      "outputs": [
        {
          "output_type": "execute_result",
          "data": {
            "text/plain": [
              "array(['mean radius', 'mean texture', 'mean perimeter', 'mean area',\n",
              "       'mean smoothness', 'mean compactness', 'mean concavity',\n",
              "       'mean concave points', 'mean symmetry', 'mean fractal dimension',\n",
              "       'radius error', 'texture error', 'perimeter error', 'area error',\n",
              "       'smoothness error', 'compactness error', 'concavity error',\n",
              "       'concave points error', 'symmetry error',\n",
              "       'fractal dimension error', 'worst radius', 'worst texture',\n",
              "       'worst perimeter', 'worst area', 'worst smoothness',\n",
              "       'worst compactness', 'worst concavity', 'worst concave points',\n",
              "       'worst symmetry', 'worst fractal dimension'], dtype='<U23')"
            ]
          },
          "metadata": {},
          "execution_count": 7
        }
      ]
    },
    {
      "cell_type": "code",
      "source": [
        "data['data'][0]"
      ],
      "metadata": {
        "colab": {
          "base_uri": "https://localhost:8080/"
        },
        "id": "qWvLtIRVfyMF",
        "outputId": "ffea2afe-d738-48c6-f014-4d8d8014e928"
      },
      "execution_count": 8,
      "outputs": [
        {
          "output_type": "execute_result",
          "data": {
            "text/plain": [
              "array([1.799e+01, 1.038e+01, 1.228e+02, 1.001e+03, 1.184e-01, 2.776e-01,\n",
              "       3.001e-01, 1.471e-01, 2.419e-01, 7.871e-02, 1.095e+00, 9.053e-01,\n",
              "       8.589e+00, 1.534e+02, 6.399e-03, 4.904e-02, 5.373e-02, 1.587e-02,\n",
              "       3.003e-02, 6.193e-03, 2.538e+01, 1.733e+01, 1.846e+02, 2.019e+03,\n",
              "       1.622e-01, 6.656e-01, 7.119e-01, 2.654e-01, 4.601e-01, 1.189e-01])"
            ]
          },
          "metadata": {},
          "execution_count": 8
        }
      ]
    },
    {
      "cell_type": "code",
      "source": [
        "j = 0\n",
        "for i in data['feature_names']:\n",
        "  print(i,\":\",data['data'][0][j])\n",
        "  j+=1"
      ],
      "metadata": {
        "colab": {
          "base_uri": "https://localhost:8080/"
        },
        "id": "4W9tXOZcf0_h",
        "outputId": "61a9fe9e-94b3-4ca8-b731-bada63e082f6"
      },
      "execution_count": 9,
      "outputs": [
        {
          "output_type": "stream",
          "name": "stdout",
          "text": [
            "mean radius : 17.99\n",
            "mean texture : 10.38\n",
            "mean perimeter : 122.8\n",
            "mean area : 1001.0\n",
            "mean smoothness : 0.1184\n",
            "mean compactness : 0.2776\n",
            "mean concavity : 0.3001\n",
            "mean concave points : 0.1471\n",
            "mean symmetry : 0.2419\n",
            "mean fractal dimension : 0.07871\n",
            "radius error : 1.095\n",
            "texture error : 0.9053\n",
            "perimeter error : 8.589\n",
            "area error : 153.4\n",
            "smoothness error : 0.006399\n",
            "compactness error : 0.04904\n",
            "concavity error : 0.05373\n",
            "concave points error : 0.01587\n",
            "symmetry error : 0.03003\n",
            "fractal dimension error : 0.006193\n",
            "worst radius : 25.38\n",
            "worst texture : 17.33\n",
            "worst perimeter : 184.6\n",
            "worst area : 2019.0\n",
            "worst smoothness : 0.1622\n",
            "worst compactness : 0.6656\n",
            "worst concavity : 0.7119\n",
            "worst concave points : 0.2654\n",
            "worst symmetry : 0.4601\n",
            "worst fractal dimension : 0.1189\n"
          ]
        }
      ]
    },
    {
      "cell_type": "code",
      "source": [
        "feature = data['data']"
      ],
      "metadata": {
        "id": "4WO8ztKrf_oC"
      },
      "execution_count": 10,
      "outputs": []
    },
    {
      "cell_type": "code",
      "source": [
        "label = data['target']"
      ],
      "metadata": {
        "id": "hAfOkQKwgCuo"
      },
      "execution_count": 11,
      "outputs": []
    },
    {
      "cell_type": "code",
      "source": [
        "data['target_names']"
      ],
      "metadata": {
        "colab": {
          "base_uri": "https://localhost:8080/"
        },
        "id": "0rhg353YgFMB",
        "outputId": "d6e40f5d-7d18-485d-eaf5-10785cef37ec"
      },
      "execution_count": 12,
      "outputs": [
        {
          "output_type": "execute_result",
          "data": {
            "text/plain": [
              "array(['malignant', 'benign'], dtype='<U9')"
            ]
          },
          "metadata": {},
          "execution_count": 12
        }
      ]
    },
    {
      "cell_type": "code",
      "source": [
        "feature.shape"
      ],
      "metadata": {
        "colab": {
          "base_uri": "https://localhost:8080/"
        },
        "id": "mpZ1Njv6gHIj",
        "outputId": "2826b773-2de4-4127-8488-6a4815897c33"
      },
      "execution_count": 14,
      "outputs": [
        {
          "output_type": "execute_result",
          "data": {
            "text/plain": [
              "(569, 30)"
            ]
          },
          "metadata": {},
          "execution_count": 14
        }
      ]
    },
    {
      "cell_type": "code",
      "source": [
        "label.shape"
      ],
      "metadata": {
        "colab": {
          "base_uri": "https://localhost:8080/"
        },
        "id": "XfYOCVmigLAE",
        "outputId": "b4c586dd-2150-4814-86ef-b76f849263e1"
      },
      "execution_count": 15,
      "outputs": [
        {
          "output_type": "execute_result",
          "data": {
            "text/plain": [
              "(569,)"
            ]
          },
          "metadata": {},
          "execution_count": 15
        }
      ]
    },
    {
      "cell_type": "code",
      "source": [
        "scale = StandardScaler()"
      ],
      "metadata": {
        "id": "L8KLssFmgOO0"
      },
      "execution_count": 18,
      "outputs": []
    },
    {
      "cell_type": "code",
      "source": [
        "feature = scale.fit_transform(feature)"
      ],
      "metadata": {
        "id": "-Ru9jWQegdSv"
      },
      "execution_count": 19,
      "outputs": []
    },
    {
      "cell_type": "code",
      "source": [
        "j = 0\n",
        "for i in data['feature_names']:\n",
        "  print(i,\":\",feature[0][j])\n",
        "  j+=1"
      ],
      "metadata": {
        "colab": {
          "base_uri": "https://localhost:8080/"
        },
        "id": "hoGWoOQOgjYB",
        "outputId": "e8d23161-2e09-4857-e07b-34a62e815e67"
      },
      "execution_count": 20,
      "outputs": [
        {
          "output_type": "stream",
          "name": "stdout",
          "text": [
            "mean radius : 1.0970639814699807\n",
            "mean texture : -2.0733350146975935\n",
            "mean perimeter : 1.2699336881399383\n",
            "mean area : 0.9843749048031144\n",
            "mean smoothness : 1.568466329243428\n",
            "mean compactness : 3.2835146709868264\n",
            "mean concavity : 2.652873983743168\n",
            "mean concave points : 2.532475216403245\n",
            "mean symmetry : 2.2175150059646405\n",
            "mean fractal dimension : 2.255746885296269\n",
            "radius error : 2.4897339267376193\n",
            "texture error : -0.5652650590684639\n",
            "perimeter error : 2.833030865855184\n",
            "area error : 2.4875775569611043\n",
            "smoothness error : -0.21400164666895383\n",
            "compactness error : 1.3168615683959484\n",
            "concavity error : 0.72402615808036\n",
            "concave points error : 0.6608199414286064\n",
            "symmetry error : 1.1487566671861758\n",
            "fractal dimension error : 0.9070830809973359\n",
            "worst radius : 1.8866896251792757\n",
            "worst texture : -1.3592934737640827\n",
            "worst perimeter : 2.3036006236225606\n",
            "worst area : 2.0012374893299207\n",
            "worst smoothness : 1.3076862710715387\n",
            "worst compactness : 2.616665023512603\n",
            "worst concavity : 2.1095263465722556\n",
            "worst concave points : 2.296076127561788\n",
            "worst symmetry : 2.750622244124955\n",
            "worst fractal dimension : 1.9370146123781782\n"
          ]
        }
      ]
    },
    {
      "cell_type": "code",
      "source": [
        "print(feature[568])"
      ],
      "metadata": {
        "colab": {
          "base_uri": "https://localhost:8080/"
        },
        "id": "f2tJA9ZXgr07",
        "outputId": "25943995-b706-407b-fe31-89776c41b933"
      },
      "execution_count": 21,
      "outputs": [
        {
          "output_type": "stream",
          "name": "stdout",
          "text": [
            "[-1.80840125  1.22179204 -1.81438851 -1.34778924 -3.11208479 -1.15075248\n",
            " -1.11487284 -1.26181958 -0.8200699  -0.56103238 -0.07027874  0.3830925\n",
            " -0.15744905 -0.46615196  0.04934236 -1.16351619 -1.05750068 -1.91344745\n",
            "  0.75282996 -0.382754   -1.41089258  0.76418957 -1.43273495 -1.07581292\n",
            " -1.85901852 -1.2075525  -1.30583065 -1.74506282 -0.04813821 -0.75120669]\n"
          ]
        }
      ]
    },
    {
      "cell_type": "code",
      "source": [
        "print(data['target_names'][label[568]],label[568])"
      ],
      "metadata": {
        "colab": {
          "base_uri": "https://localhost:8080/"
        },
        "id": "81ERDSfVgwsr",
        "outputId": "060b588f-cbe4-4b0f-f906-2872529e9e87"
      },
      "execution_count": 22,
      "outputs": [
        {
          "output_type": "stream",
          "name": "stdout",
          "text": [
            "benign 1\n"
          ]
        }
      ]
    },
    {
      "cell_type": "code",
      "source": [
        "feature_df = pd.DataFrame(feature,columns = data['feature_names'])"
      ],
      "metadata": {
        "id": "8qMGfhKBg3Wn"
      },
      "execution_count": 23,
      "outputs": []
    },
    {
      "cell_type": "code",
      "source": [
        "label_df = pd.DataFrame(label, columns = ['label'])"
      ],
      "metadata": {
        "id": "duL5Oe5ahKFs"
      },
      "execution_count": 24,
      "outputs": []
    },
    {
      "cell_type": "code",
      "source": [
        "df = pd.concat([feature_df,label_df],axis = 1)"
      ],
      "metadata": {
        "id": "fzAEYSiKhQsF"
      },
      "execution_count": 27,
      "outputs": []
    },
    {
      "cell_type": "code",
      "source": [
        "df =df.sample(frac =1)"
      ],
      "metadata": {
        "id": "SE_i2QxshWkC"
      },
      "execution_count": 28,
      "outputs": []
    },
    {
      "cell_type": "code",
      "source": [
        "feature = df.values[:,:30]\n",
        "label = df.values[:,30:]"
      ],
      "metadata": {
        "id": "rRqhv7HZhhp6"
      },
      "execution_count": 30,
      "outputs": []
    },
    {
      "cell_type": "code",
      "source": [
        "df"
      ],
      "metadata": {
        "colab": {
          "base_uri": "https://localhost:8080/",
          "height": 522
        },
        "id": "RU9GfgM_hluO",
        "outputId": "7039adc3-8296-4bd4-f71f-3ac800fb08d4"
      },
      "execution_count": 31,
      "outputs": [
        {
          "output_type": "execute_result",
          "data": {
            "text/plain": [
              "     mean radius  mean texture  mean perimeter  mean area  mean smoothness  \\\n",
              "414     0.284783      2.448156        0.195281   0.183760        -0.936557   \n",
              "193    -0.507616      1.761672       -0.445638  -0.504797         0.500985   \n",
              "501    -0.087275      1.210157        0.014868  -0.167771         1.411902   \n",
              "127     1.383918     -0.088347        1.294648   1.374017        -1.009858   \n",
              "364    -0.206561     -0.544452       -0.267285  -0.291490        -1.209121   \n",
              "..           ...           ...             ...        ...              ...   \n",
              "435    -0.041833      0.076875       -0.034972  -0.157532         0.686015   \n",
              "371     0.301824     -1.414775        0.234000   0.161860        -1.190618   \n",
              "256     1.540126      2.206141        1.714788   1.570260        -0.267602   \n",
              "83      1.412320      1.629029        1.529432   1.356952         1.789079   \n",
              "136    -0.686545     -0.609610       -0.710491  -0.657810         0.621966   \n",
              "\n",
              "     mean compactness  mean concavity  mean concave points  mean symmetry  \\\n",
              "414         -1.104700       -0.526547            -0.555322       0.147430   \n",
              "193          0.586719        0.247342            -0.085098       0.479666   \n",
              "501          1.208328        0.588837             0.481596       1.691779   \n",
              "127         -0.455991        0.049099             0.189608       0.490619   \n",
              "364         -0.897940       -0.841049            -0.881874      -0.590060   \n",
              "..                ...             ...                  ...            ...   \n",
              "435          0.169787        0.298817             0.405245      -0.520693   \n",
              "371         -0.663320       -0.688883            -0.576473      -0.330843   \n",
              "256          1.932274        1.124934             1.689012       0.297119   \n",
              "83           1.416794        1.317025             2.527316      -0.648476   \n",
              "136         -0.822323       -0.663898            -0.591176      -1.725504   \n",
              "\n",
              "     mean fractal dimension  ...  worst texture  worst perimeter  worst area  \\\n",
              "414               -1.397419  ...       1.829188         0.084556    0.089332   \n",
              "193                0.931705  ...       2.224898        -0.165645   -0.196329   \n",
              "501                1.356986  ...       1.182698        -0.037566   -0.162753   \n",
              "127               -1.751820  ...       0.008594         1.219396    1.155681   \n",
              "364               -0.820454  ...      -0.647666        -0.402145   -0.381613   \n",
              "..                      ...  ...            ...              ...         ...   \n",
              "435                0.374586  ...       0.834212         0.197742   -0.019835   \n",
              "371               -1.043018  ...      -1.619844        -0.082245   -0.108082   \n",
              "256               -0.067706  ...       1.724968         2.124886    1.837752   \n",
              "83                 1.338557  ...       1.146872         1.013874    0.733782   \n",
              "136               -0.474559  ...      -0.032117        -0.628517   -0.586937   \n",
              "\n",
              "     worst smoothness  worst compactness  worst concavity  \\\n",
              "414         -0.770135          -0.989865        -0.563654   \n",
              "193          2.022211           1.376193         0.817074   \n",
              "501          2.061664           0.905449         0.316212   \n",
              "127         -1.326851          -0.177261         0.232735   \n",
              "364         -0.485202          -0.551311        -0.651448   \n",
              "..                ...                ...              ...   \n",
              "435          1.268234           0.652266         0.646282   \n",
              "371         -0.866574          -0.512506        -0.652408   \n",
              "256         -0.187118           1.772508         0.733597   \n",
              "83           0.299461           0.174525        -0.139073   \n",
              "136         -0.230954          -0.963529        -0.804010   \n",
              "\n",
              "     worst concave points  worst symmetry  worst fractal dimension  label  \n",
              "414             -0.743914        0.537498                -1.235541      0  \n",
              "193              0.476498        0.508378                 2.025680      0  \n",
              "501              0.570903        1.213731                 1.903765      0  \n",
              "127              0.109537       -0.096672                -1.027177      0  \n",
              "364             -0.681180       -0.258450                -0.450299      1  \n",
              "..                    ...             ...                      ...    ...  \n",
              "435              1.036837        0.450138                 1.194443      0  \n",
              "371             -0.499832       -0.669366                -0.902492      1  \n",
              "256              1.210420       -0.133881                 0.917364      0  \n",
              "83               1.058154       -0.954095                 0.447992      0  \n",
              "136             -0.684074       -1.923146                -0.582743      1  \n",
              "\n",
              "[569 rows x 31 columns]"
            ],
            "text/html": [
              "\n",
              "  <div id=\"df-9f5db8a1-1052-4634-9979-345c63ecedc0\">\n",
              "    <div class=\"colab-df-container\">\n",
              "      <div>\n",
              "<style scoped>\n",
              "    .dataframe tbody tr th:only-of-type {\n",
              "        vertical-align: middle;\n",
              "    }\n",
              "\n",
              "    .dataframe tbody tr th {\n",
              "        vertical-align: top;\n",
              "    }\n",
              "\n",
              "    .dataframe thead th {\n",
              "        text-align: right;\n",
              "    }\n",
              "</style>\n",
              "<table border=\"1\" class=\"dataframe\">\n",
              "  <thead>\n",
              "    <tr style=\"text-align: right;\">\n",
              "      <th></th>\n",
              "      <th>mean radius</th>\n",
              "      <th>mean texture</th>\n",
              "      <th>mean perimeter</th>\n",
              "      <th>mean area</th>\n",
              "      <th>mean smoothness</th>\n",
              "      <th>mean compactness</th>\n",
              "      <th>mean concavity</th>\n",
              "      <th>mean concave points</th>\n",
              "      <th>mean symmetry</th>\n",
              "      <th>mean fractal dimension</th>\n",
              "      <th>...</th>\n",
              "      <th>worst texture</th>\n",
              "      <th>worst perimeter</th>\n",
              "      <th>worst area</th>\n",
              "      <th>worst smoothness</th>\n",
              "      <th>worst compactness</th>\n",
              "      <th>worst concavity</th>\n",
              "      <th>worst concave points</th>\n",
              "      <th>worst symmetry</th>\n",
              "      <th>worst fractal dimension</th>\n",
              "      <th>label</th>\n",
              "    </tr>\n",
              "  </thead>\n",
              "  <tbody>\n",
              "    <tr>\n",
              "      <th>414</th>\n",
              "      <td>0.284783</td>\n",
              "      <td>2.448156</td>\n",
              "      <td>0.195281</td>\n",
              "      <td>0.183760</td>\n",
              "      <td>-0.936557</td>\n",
              "      <td>-1.104700</td>\n",
              "      <td>-0.526547</td>\n",
              "      <td>-0.555322</td>\n",
              "      <td>0.147430</td>\n",
              "      <td>-1.397419</td>\n",
              "      <td>...</td>\n",
              "      <td>1.829188</td>\n",
              "      <td>0.084556</td>\n",
              "      <td>0.089332</td>\n",
              "      <td>-0.770135</td>\n",
              "      <td>-0.989865</td>\n",
              "      <td>-0.563654</td>\n",
              "      <td>-0.743914</td>\n",
              "      <td>0.537498</td>\n",
              "      <td>-1.235541</td>\n",
              "      <td>0</td>\n",
              "    </tr>\n",
              "    <tr>\n",
              "      <th>193</th>\n",
              "      <td>-0.507616</td>\n",
              "      <td>1.761672</td>\n",
              "      <td>-0.445638</td>\n",
              "      <td>-0.504797</td>\n",
              "      <td>0.500985</td>\n",
              "      <td>0.586719</td>\n",
              "      <td>0.247342</td>\n",
              "      <td>-0.085098</td>\n",
              "      <td>0.479666</td>\n",
              "      <td>0.931705</td>\n",
              "      <td>...</td>\n",
              "      <td>2.224898</td>\n",
              "      <td>-0.165645</td>\n",
              "      <td>-0.196329</td>\n",
              "      <td>2.022211</td>\n",
              "      <td>1.376193</td>\n",
              "      <td>0.817074</td>\n",
              "      <td>0.476498</td>\n",
              "      <td>0.508378</td>\n",
              "      <td>2.025680</td>\n",
              "      <td>0</td>\n",
              "    </tr>\n",
              "    <tr>\n",
              "      <th>501</th>\n",
              "      <td>-0.087275</td>\n",
              "      <td>1.210157</td>\n",
              "      <td>0.014868</td>\n",
              "      <td>-0.167771</td>\n",
              "      <td>1.411902</td>\n",
              "      <td>1.208328</td>\n",
              "      <td>0.588837</td>\n",
              "      <td>0.481596</td>\n",
              "      <td>1.691779</td>\n",
              "      <td>1.356986</td>\n",
              "      <td>...</td>\n",
              "      <td>1.182698</td>\n",
              "      <td>-0.037566</td>\n",
              "      <td>-0.162753</td>\n",
              "      <td>2.061664</td>\n",
              "      <td>0.905449</td>\n",
              "      <td>0.316212</td>\n",
              "      <td>0.570903</td>\n",
              "      <td>1.213731</td>\n",
              "      <td>1.903765</td>\n",
              "      <td>0</td>\n",
              "    </tr>\n",
              "    <tr>\n",
              "      <th>127</th>\n",
              "      <td>1.383918</td>\n",
              "      <td>-0.088347</td>\n",
              "      <td>1.294648</td>\n",
              "      <td>1.374017</td>\n",
              "      <td>-1.009858</td>\n",
              "      <td>-0.455991</td>\n",
              "      <td>0.049099</td>\n",
              "      <td>0.189608</td>\n",
              "      <td>0.490619</td>\n",
              "      <td>-1.751820</td>\n",
              "      <td>...</td>\n",
              "      <td>0.008594</td>\n",
              "      <td>1.219396</td>\n",
              "      <td>1.155681</td>\n",
              "      <td>-1.326851</td>\n",
              "      <td>-0.177261</td>\n",
              "      <td>0.232735</td>\n",
              "      <td>0.109537</td>\n",
              "      <td>-0.096672</td>\n",
              "      <td>-1.027177</td>\n",
              "      <td>0</td>\n",
              "    </tr>\n",
              "    <tr>\n",
              "      <th>364</th>\n",
              "      <td>-0.206561</td>\n",
              "      <td>-0.544452</td>\n",
              "      <td>-0.267285</td>\n",
              "      <td>-0.291490</td>\n",
              "      <td>-1.209121</td>\n",
              "      <td>-0.897940</td>\n",
              "      <td>-0.841049</td>\n",
              "      <td>-0.881874</td>\n",
              "      <td>-0.590060</td>\n",
              "      <td>-0.820454</td>\n",
              "      <td>...</td>\n",
              "      <td>-0.647666</td>\n",
              "      <td>-0.402145</td>\n",
              "      <td>-0.381613</td>\n",
              "      <td>-0.485202</td>\n",
              "      <td>-0.551311</td>\n",
              "      <td>-0.651448</td>\n",
              "      <td>-0.681180</td>\n",
              "      <td>-0.258450</td>\n",
              "      <td>-0.450299</td>\n",
              "      <td>1</td>\n",
              "    </tr>\n",
              "    <tr>\n",
              "      <th>...</th>\n",
              "      <td>...</td>\n",
              "      <td>...</td>\n",
              "      <td>...</td>\n",
              "      <td>...</td>\n",
              "      <td>...</td>\n",
              "      <td>...</td>\n",
              "      <td>...</td>\n",
              "      <td>...</td>\n",
              "      <td>...</td>\n",
              "      <td>...</td>\n",
              "      <td>...</td>\n",
              "      <td>...</td>\n",
              "      <td>...</td>\n",
              "      <td>...</td>\n",
              "      <td>...</td>\n",
              "      <td>...</td>\n",
              "      <td>...</td>\n",
              "      <td>...</td>\n",
              "      <td>...</td>\n",
              "      <td>...</td>\n",
              "      <td>...</td>\n",
              "    </tr>\n",
              "    <tr>\n",
              "      <th>435</th>\n",
              "      <td>-0.041833</td>\n",
              "      <td>0.076875</td>\n",
              "      <td>-0.034972</td>\n",
              "      <td>-0.157532</td>\n",
              "      <td>0.686015</td>\n",
              "      <td>0.169787</td>\n",
              "      <td>0.298817</td>\n",
              "      <td>0.405245</td>\n",
              "      <td>-0.520693</td>\n",
              "      <td>0.374586</td>\n",
              "      <td>...</td>\n",
              "      <td>0.834212</td>\n",
              "      <td>0.197742</td>\n",
              "      <td>-0.019835</td>\n",
              "      <td>1.268234</td>\n",
              "      <td>0.652266</td>\n",
              "      <td>0.646282</td>\n",
              "      <td>1.036837</td>\n",
              "      <td>0.450138</td>\n",
              "      <td>1.194443</td>\n",
              "      <td>0</td>\n",
              "    </tr>\n",
              "    <tr>\n",
              "      <th>371</th>\n",
              "      <td>0.301824</td>\n",
              "      <td>-1.414775</td>\n",
              "      <td>0.234000</td>\n",
              "      <td>0.161860</td>\n",
              "      <td>-1.190618</td>\n",
              "      <td>-0.663320</td>\n",
              "      <td>-0.688883</td>\n",
              "      <td>-0.576473</td>\n",
              "      <td>-0.330843</td>\n",
              "      <td>-1.043018</td>\n",
              "      <td>...</td>\n",
              "      <td>-1.619844</td>\n",
              "      <td>-0.082245</td>\n",
              "      <td>-0.108082</td>\n",
              "      <td>-0.866574</td>\n",
              "      <td>-0.512506</td>\n",
              "      <td>-0.652408</td>\n",
              "      <td>-0.499832</td>\n",
              "      <td>-0.669366</td>\n",
              "      <td>-0.902492</td>\n",
              "      <td>1</td>\n",
              "    </tr>\n",
              "    <tr>\n",
              "      <th>256</th>\n",
              "      <td>1.540126</td>\n",
              "      <td>2.206141</td>\n",
              "      <td>1.714788</td>\n",
              "      <td>1.570260</td>\n",
              "      <td>-0.267602</td>\n",
              "      <td>1.932274</td>\n",
              "      <td>1.124934</td>\n",
              "      <td>1.689012</td>\n",
              "      <td>0.297119</td>\n",
              "      <td>-0.067706</td>\n",
              "      <td>...</td>\n",
              "      <td>1.724968</td>\n",
              "      <td>2.124886</td>\n",
              "      <td>1.837752</td>\n",
              "      <td>-0.187118</td>\n",
              "      <td>1.772508</td>\n",
              "      <td>0.733597</td>\n",
              "      <td>1.210420</td>\n",
              "      <td>-0.133881</td>\n",
              "      <td>0.917364</td>\n",
              "      <td>0</td>\n",
              "    </tr>\n",
              "    <tr>\n",
              "      <th>83</th>\n",
              "      <td>1.412320</td>\n",
              "      <td>1.629029</td>\n",
              "      <td>1.529432</td>\n",
              "      <td>1.356952</td>\n",
              "      <td>1.789079</td>\n",
              "      <td>1.416794</td>\n",
              "      <td>1.317025</td>\n",
              "      <td>2.527316</td>\n",
              "      <td>-0.648476</td>\n",
              "      <td>1.338557</td>\n",
              "      <td>...</td>\n",
              "      <td>1.146872</td>\n",
              "      <td>1.013874</td>\n",
              "      <td>0.733782</td>\n",
              "      <td>0.299461</td>\n",
              "      <td>0.174525</td>\n",
              "      <td>-0.139073</td>\n",
              "      <td>1.058154</td>\n",
              "      <td>-0.954095</td>\n",
              "      <td>0.447992</td>\n",
              "      <td>0</td>\n",
              "    </tr>\n",
              "    <tr>\n",
              "      <th>136</th>\n",
              "      <td>-0.686545</td>\n",
              "      <td>-0.609610</td>\n",
              "      <td>-0.710491</td>\n",
              "      <td>-0.657810</td>\n",
              "      <td>0.621966</td>\n",
              "      <td>-0.822323</td>\n",
              "      <td>-0.663898</td>\n",
              "      <td>-0.591176</td>\n",
              "      <td>-1.725504</td>\n",
              "      <td>-0.474559</td>\n",
              "      <td>...</td>\n",
              "      <td>-0.032117</td>\n",
              "      <td>-0.628517</td>\n",
              "      <td>-0.586937</td>\n",
              "      <td>-0.230954</td>\n",
              "      <td>-0.963529</td>\n",
              "      <td>-0.804010</td>\n",
              "      <td>-0.684074</td>\n",
              "      <td>-1.923146</td>\n",
              "      <td>-0.582743</td>\n",
              "      <td>1</td>\n",
              "    </tr>\n",
              "  </tbody>\n",
              "</table>\n",
              "<p>569 rows × 31 columns</p>\n",
              "</div>\n",
              "      <button class=\"colab-df-convert\" onclick=\"convertToInteractive('df-9f5db8a1-1052-4634-9979-345c63ecedc0')\"\n",
              "              title=\"Convert this dataframe to an interactive table.\"\n",
              "              style=\"display:none;\">\n",
              "        \n",
              "  <svg xmlns=\"http://www.w3.org/2000/svg\" height=\"24px\"viewBox=\"0 0 24 24\"\n",
              "       width=\"24px\">\n",
              "    <path d=\"M0 0h24v24H0V0z\" fill=\"none\"/>\n",
              "    <path d=\"M18.56 5.44l.94 2.06.94-2.06 2.06-.94-2.06-.94-.94-2.06-.94 2.06-2.06.94zm-11 1L8.5 8.5l.94-2.06 2.06-.94-2.06-.94L8.5 2.5l-.94 2.06-2.06.94zm10 10l.94 2.06.94-2.06 2.06-.94-2.06-.94-.94-2.06-.94 2.06-2.06.94z\"/><path d=\"M17.41 7.96l-1.37-1.37c-.4-.4-.92-.59-1.43-.59-.52 0-1.04.2-1.43.59L10.3 9.45l-7.72 7.72c-.78.78-.78 2.05 0 2.83L4 21.41c.39.39.9.59 1.41.59.51 0 1.02-.2 1.41-.59l7.78-7.78 2.81-2.81c.8-.78.8-2.07 0-2.86zM5.41 20L4 18.59l7.72-7.72 1.47 1.35L5.41 20z\"/>\n",
              "  </svg>\n",
              "      </button>\n",
              "      \n",
              "  <style>\n",
              "    .colab-df-container {\n",
              "      display:flex;\n",
              "      flex-wrap:wrap;\n",
              "      gap: 12px;\n",
              "    }\n",
              "\n",
              "    .colab-df-convert {\n",
              "      background-color: #E8F0FE;\n",
              "      border: none;\n",
              "      border-radius: 50%;\n",
              "      cursor: pointer;\n",
              "      display: none;\n",
              "      fill: #1967D2;\n",
              "      height: 32px;\n",
              "      padding: 0 0 0 0;\n",
              "      width: 32px;\n",
              "    }\n",
              "\n",
              "    .colab-df-convert:hover {\n",
              "      background-color: #E2EBFA;\n",
              "      box-shadow: 0px 1px 2px rgba(60, 64, 67, 0.3), 0px 1px 3px 1px rgba(60, 64, 67, 0.15);\n",
              "      fill: #174EA6;\n",
              "    }\n",
              "\n",
              "    [theme=dark] .colab-df-convert {\n",
              "      background-color: #3B4455;\n",
              "      fill: #D2E3FC;\n",
              "    }\n",
              "\n",
              "    [theme=dark] .colab-df-convert:hover {\n",
              "      background-color: #434B5C;\n",
              "      box-shadow: 0px 1px 3px 1px rgba(0, 0, 0, 0.15);\n",
              "      filter: drop-shadow(0px 1px 2px rgba(0, 0, 0, 0.3));\n",
              "      fill: #FFFFFF;\n",
              "    }\n",
              "  </style>\n",
              "\n",
              "      <script>\n",
              "        const buttonEl =\n",
              "          document.querySelector('#df-9f5db8a1-1052-4634-9979-345c63ecedc0 button.colab-df-convert');\n",
              "        buttonEl.style.display =\n",
              "          google.colab.kernel.accessAllowed ? 'block' : 'none';\n",
              "\n",
              "        async function convertToInteractive(key) {\n",
              "          const element = document.querySelector('#df-9f5db8a1-1052-4634-9979-345c63ecedc0');\n",
              "          const dataTable =\n",
              "            await google.colab.kernel.invokeFunction('convertToInteractive',\n",
              "                                                     [key], {});\n",
              "          if (!dataTable) return;\n",
              "\n",
              "          const docLinkHtml = 'Like what you see? Visit the ' +\n",
              "            '<a target=\"_blank\" href=https://colab.research.google.com/notebooks/data_table.ipynb>data table notebook</a>'\n",
              "            + ' to learn more about interactive tables.';\n",
              "          element.innerHTML = '';\n",
              "          dataTable['output_type'] = 'display_data';\n",
              "          await google.colab.output.renderOutput(dataTable, element);\n",
              "          const docLink = document.createElement('div');\n",
              "          docLink.innerHTML = docLinkHtml;\n",
              "          element.appendChild(docLink);\n",
              "        }\n",
              "      </script>\n",
              "    </div>\n",
              "  </div>\n",
              "  "
            ]
          },
          "metadata": {},
          "execution_count": 31
        }
      ]
    },
    {
      "cell_type": "code",
      "source": [
        "#500 Training\n",
        "X_train = feature[:500]\n",
        "Y_train = label[:500]"
      ],
      "metadata": {
        "id": "9-tKbATshsUP"
      },
      "execution_count": 32,
      "outputs": []
    },
    {
      "cell_type": "code",
      "source": [
        "#35 Validation\n",
        "X_val = feature[500:535]\n",
        "Y_val = label[500:535]"
      ],
      "metadata": {
        "id": "JRdthd1wh2kv"
      },
      "execution_count": 33,
      "outputs": []
    },
    {
      "cell_type": "code",
      "source": [
        "#34 Testing\n",
        "X_test = feature[535:]\n",
        "Y_test = label[535:]"
      ],
      "metadata": {
        "id": "d7ADRUkfiAAv"
      },
      "execution_count": 34,
      "outputs": []
    },
    {
      "cell_type": "code",
      "source": [
        "model = Sequential()"
      ],
      "metadata": {
        "id": "y8q0ogtZiG9X"
      },
      "execution_count": 37,
      "outputs": []
    },
    {
      "cell_type": "code",
      "source": [
        "model.add(Dense(32,activation = 'relu', input_dim = 30))\n",
        "model.add(Dense(64,activation='relu'))\n",
        "model.add(Dense(128,activation = 'relu'))\n",
        "model.add(Dense(64,activation = 'relu'))\n",
        "model.add(Dense(32, activation = 'relu'))\n",
        "model.add(Dense(1, activation = 'sigmoid'))"
      ],
      "metadata": {
        "id": "7HjlGxeziLbT"
      },
      "execution_count": 38,
      "outputs": []
    },
    {
      "cell_type": "code",
      "source": [
        "model.compile(loss = 'binary_crossentropy', optimizer = 'adam', metrics =['accuracy'] )"
      ],
      "metadata": {
        "id": "GXq1PfILjNgu"
      },
      "execution_count": 39,
      "outputs": []
    },
    {
      "cell_type": "code",
      "source": [
        "model.fit(X_train,Y_train,epochs =10,batch_size = 5, validation_data = (X_val,Y_val))"
      ],
      "metadata": {
        "colab": {
          "base_uri": "https://localhost:8080/"
        },
        "id": "bt_jARlAjaA8",
        "outputId": "95a0e34d-8ab0-45fd-b1b6-e86b809458ac"
      },
      "execution_count": 40,
      "outputs": [
        {
          "output_type": "stream",
          "name": "stdout",
          "text": [
            "Epoch 1/10\n",
            "100/100 [==============================] - 2s 9ms/step - loss: 0.2504 - accuracy: 0.9080 - val_loss: 0.0714 - val_accuracy: 0.9714\n",
            "Epoch 2/10\n",
            "100/100 [==============================] - 1s 6ms/step - loss: 0.0788 - accuracy: 0.9760 - val_loss: 0.0363 - val_accuracy: 1.0000\n",
            "Epoch 3/10\n",
            "100/100 [==============================] - 0s 5ms/step - loss: 0.0678 - accuracy: 0.9840 - val_loss: 0.0391 - val_accuracy: 0.9714\n",
            "Epoch 4/10\n",
            "100/100 [==============================] - 0s 5ms/step - loss: 0.0520 - accuracy: 0.9820 - val_loss: 0.0231 - val_accuracy: 1.0000\n",
            "Epoch 5/10\n",
            "100/100 [==============================] - 1s 5ms/step - loss: 0.0446 - accuracy: 0.9860 - val_loss: 0.0097 - val_accuracy: 1.0000\n",
            "Epoch 6/10\n",
            "100/100 [==============================] - 1s 5ms/step - loss: 0.0256 - accuracy: 0.9920 - val_loss: 0.0106 - val_accuracy: 1.0000\n",
            "Epoch 7/10\n",
            "100/100 [==============================] - 1s 5ms/step - loss: 0.0174 - accuracy: 0.9940 - val_loss: 0.0156 - val_accuracy: 1.0000\n",
            "Epoch 8/10\n",
            "100/100 [==============================] - 1s 5ms/step - loss: 0.0171 - accuracy: 0.9960 - val_loss: 0.0251 - val_accuracy: 0.9714\n",
            "Epoch 9/10\n",
            "100/100 [==============================] - 0s 5ms/step - loss: 0.0167 - accuracy: 0.9940 - val_loss: 0.1189 - val_accuracy: 0.9714\n",
            "Epoch 10/10\n",
            "100/100 [==============================] - 0s 4ms/step - loss: 0.0424 - accuracy: 0.9860 - val_loss: 0.0096 - val_accuracy: 1.0000\n"
          ]
        },
        {
          "output_type": "execute_result",
          "data": {
            "text/plain": [
              "<keras.callbacks.History at 0x7fefafaf9310>"
            ]
          },
          "metadata": {},
          "execution_count": 40
        }
      ]
    },
    {
      "cell_type": "code",
      "source": [
        "model.evaluate(X_test,Y_test)"
      ],
      "metadata": {
        "colab": {
          "base_uri": "https://localhost:8080/"
        },
        "id": "qvXARqlEjmSW",
        "outputId": "382dc0fc-1f44-4235-a791-0ed1c60df168"
      },
      "execution_count": 41,
      "outputs": [
        {
          "output_type": "stream",
          "name": "stdout",
          "text": [
            "2/2 [==============================] - 0s 5ms/step - loss: 0.3001 - accuracy: 0.9412\n"
          ]
        },
        {
          "output_type": "execute_result",
          "data": {
            "text/plain": [
              "[0.30006712675094604, 0.9411764740943909]"
            ]
          },
          "metadata": {},
          "execution_count": 41
        }
      ]
    },
    {
      "cell_type": "code",
      "source": [
        "model.evaluate(X_val,Y_val)"
      ],
      "metadata": {
        "colab": {
          "base_uri": "https://localhost:8080/"
        },
        "id": "CRDeb35pjucT",
        "outputId": "57466550-b1d5-4743-8a24-98018ec820d9"
      },
      "execution_count": 42,
      "outputs": [
        {
          "output_type": "stream",
          "name": "stdout",
          "text": [
            "2/2 [==============================] - 0s 12ms/step - loss: 0.0096 - accuracy: 1.0000\n"
          ]
        },
        {
          "output_type": "execute_result",
          "data": {
            "text/plain": [
              "[0.009627580642700195, 1.0]"
            ]
          },
          "metadata": {},
          "execution_count": 42
        }
      ]
    },
    {
      "cell_type": "code",
      "source": [
        "for i in range(30):\n",
        "  sample = X_test[i]\n",
        "  sample = np.reshape(sample,(1,30))\n",
        "\n",
        "  if(model.predict(sample)[0][0]>0.5):\n",
        "    print(\"-Benign\")\n",
        "  else:\n",
        "    print(\"-Malignant\")\n",
        "\n",
        "  if(Y_test[i]==1):\n",
        "    print(\"*Benign\")\n",
        "  else:\n",
        "    print(\"*Malignant\")\n",
        "  print(\"-----------\")"
      ],
      "metadata": {
        "colab": {
          "base_uri": "https://localhost:8080/"
        },
        "id": "dK8JD3rvjy-S",
        "outputId": "93cbe24c-6cbf-4d1d-cbb8-cc8f8686b823"
      },
      "execution_count": 48,
      "outputs": [
        {
          "output_type": "stream",
          "name": "stdout",
          "text": [
            "-Benign\n",
            "*Benign\n",
            "-----------\n",
            "-Benign\n",
            "*Benign\n",
            "-----------\n",
            "-Benign\n",
            "*Benign\n",
            "-----------\n",
            "-Benign\n",
            "*Benign\n",
            "-----------\n",
            "-Benign\n",
            "*Benign\n",
            "-----------\n",
            "-Malignant\n",
            "*Malignant\n",
            "-----------\n",
            "-Malignant\n",
            "*Malignant\n",
            "-----------\n",
            "-Benign\n",
            "*Benign\n",
            "-----------\n",
            "-Benign\n",
            "*Benign\n",
            "-----------\n",
            "-Malignant\n",
            "*Malignant\n",
            "-----------\n",
            "-Benign\n",
            "*Benign\n",
            "-----------\n",
            "-Malignant\n",
            "*Malignant\n",
            "-----------\n",
            "-Benign\n",
            "*Benign\n",
            "-----------\n",
            "-Benign\n",
            "*Benign\n",
            "-----------\n",
            "-Benign\n",
            "*Benign\n",
            "-----------\n",
            "-Benign\n",
            "*Benign\n",
            "-----------\n",
            "-Malignant\n",
            "*Malignant\n",
            "-----------\n",
            "-Malignant\n",
            "*Malignant\n",
            "-----------\n",
            "-Malignant\n",
            "*Malignant\n",
            "-----------\n",
            "-Benign\n",
            "*Malignant\n",
            "-----------\n",
            "-Benign\n",
            "*Benign\n",
            "-----------\n",
            "-Benign\n",
            "*Benign\n",
            "-----------\n",
            "-Benign\n",
            "*Benign\n",
            "-----------\n",
            "-Malignant\n",
            "*Malignant\n",
            "-----------\n",
            "-Benign\n",
            "*Malignant\n",
            "-----------\n",
            "-Benign\n",
            "*Benign\n",
            "-----------\n",
            "-Benign\n",
            "*Benign\n",
            "-----------\n",
            "-Malignant\n",
            "*Malignant\n",
            "-----------\n",
            "-Benign\n",
            "*Benign\n",
            "-----------\n",
            "-Malignant\n",
            "*Malignant\n",
            "-----------\n"
          ]
        }
      ]
    },
    {
      "cell_type": "code",
      "source": [
        "t = 0\n",
        "for i in Y_val:\n",
        "  if(i==1):\n",
        "    t+=1\n",
        "\n",
        "print(t)"
      ],
      "metadata": {
        "colab": {
          "base_uri": "https://localhost:8080/"
        },
        "id": "aDizJZmskhbV",
        "outputId": "d3bacadc-7772-4e84-c659-4a280925bcf8"
      },
      "execution_count": 45,
      "outputs": [
        {
          "output_type": "stream",
          "name": "stdout",
          "text": [
            "21\n"
          ]
        }
      ]
    },
    {
      "cell_type": "code",
      "source": [
        "t = 0\n",
        "for i in Y_test:\n",
        "  if(i==1):\n",
        "    t+=1\n",
        "\n",
        "print(t)"
      ],
      "metadata": {
        "colab": {
          "base_uri": "https://localhost:8080/"
        },
        "id": "MRSPUmLskwRX",
        "outputId": "e7532151-226a-4823-abf5-5439842cadae"
      },
      "execution_count": 46,
      "outputs": [
        {
          "output_type": "stream",
          "name": "stdout",
          "text": [
            "20\n"
          ]
        }
      ]
    },
    {
      "cell_type": "code",
      "source": [
        "X_test[0]*-.1"
      ],
      "metadata": {
        "colab": {
          "base_uri": "https://localhost:8080/"
        },
        "id": "C7jypP6ck2-w",
        "outputId": "693a0425-b821-4f0a-d8b1-6dd202b63b19"
      },
      "execution_count": 47,
      "outputs": [
        {
          "output_type": "execute_result",
          "data": {
            "text/plain": [
              "array([ 0.02605239, -0.20409197,  0.02919987,  0.0331307 ,  0.06867665,\n",
              "        0.06741228,  0.07398559,  0.04170667,  0.06703812,  0.07070456,\n",
              "        0.06138258, -0.06897166,  0.06569349,  0.04947542,  0.06893543,\n",
              "        0.0657157 ,  0.05608085,  0.04345819,  0.03998374,  0.09274359,\n",
              "        0.0393289 , -0.18715273,  0.04402708,  0.04412064,  0.11032878,\n",
              "        0.0738972 ,  0.07963337,  0.05333302,  0.06920149,  0.1081485 ])"
            ]
          },
          "metadata": {},
          "execution_count": 47
        }
      ]
    },
    {
      "cell_type": "code",
      "source": [
        ""
      ],
      "metadata": {
        "id": "exxqC0_mk6P6"
      },
      "execution_count": null,
      "outputs": []
    }
  ]
}